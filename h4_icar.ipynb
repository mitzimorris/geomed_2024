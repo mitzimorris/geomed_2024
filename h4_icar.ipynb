{
 "cells": [
  {
   "cell_type": "markdown",
   "metadata": {},
   "source": [
    "# Implementing the ICAR Model in Stan\n",
    "\n",
    "\n",
    "## Notebook Setup\n",
    "\n",
    "Import all libraries, load the NYC study data."
   ]
  },
  {
   "cell_type": "code",
   "execution_count": null,
   "metadata": {},
   "outputs": [],
   "source": [
    "# import all libraries used in this notebook\n",
    "import os\n",
    "import numpy as np\n",
    "import pandas as pd\n",
    "import geopandas as gpd\n",
    "import libpysal as sa\n",
    "import matplotlib\n",
    "import splot as splt\n",
    "from splot.libpysal import plot_spatial_weights \n",
    "import plotnine as p9\n",
    "import arviz as az\n",
    "%matplotlib inline\n",
    "\n",
    "from cmdstanpy import CmdStanModel, cmdstan_path, cmdstan_version\n",
    "\n",
    "# suppress plotnine warnings\n",
    "import warnings\n",
    "warnings.filterwarnings('ignore')\n",
    "\n",
    "# setup plotnine look and feel\n",
    "p9.theme_set(\n",
    "  p9.theme_grey() + \n",
    "  p9.theme(text=p9.element_text(size=10),\n",
    "        plot_title=p9.element_text(size=14),\n",
    "        axis_title_x=p9.element_text(size=12),\n",
    "        axis_title_y=p9.element_text(size=12),\n",
    "        axis_text_x=p9.element_text(size=8),\n",
    "        axis_text_y=p9.element_text(size=8)\n",
    "       )\n",
    ")\n",
    "xlabels_90 = p9.theme(axis_text_x = p9.element_text(angle=90, hjust=1))\n",
    "\n",
    "map_theme =  p9.theme(figure_size=(7,6),\n",
    "                 axis_text_x=p9.element_blank(),\n",
    "                 axis_ticks_x=p9.element_blank(),\n",
    "                 axis_text_y=p9.element_blank(),\n",
    "                 axis_ticks_y=p9.element_blank())"
   ]
  },
  {
   "cell_type": "code",
   "execution_count": null,
   "metadata": {},
   "outputs": [],
   "source": [
    "nyc_geodata = gpd.read_file(os.path.join('data', 'nyc_study.geojson'))\n",
    "nyc_geodata.columns"
   ]
  },
  {
   "cell_type": "markdown",
   "metadata": {},
   "source": [
    "## Disconnected Components (and islands)\n",
    "\n",
    "New York city consists of several islands; only the Bronx is part of the mainland; Brooklyn and Queens are part of Long Island, plus smaller islands City Island, Roosevelt Island, and the Rockaways.\n",
    "**Python**"
   ]
  },
  {
   "cell_type": "code",
   "execution_count": null,
   "metadata": {},
   "outputs": [],
   "source": [
    "w_nyc_nbs = sa.weights.Rook.from_dataframe(nyc_geodata, geom_col='geometry')\n",
    "print(f'number of components: {w_nyc_nbs.n_components}')\n",
    "print(f'islands? {w_nyc_nbs.islands}')\n",
    "print(f'max number of neighbors per node: {w_nyc_nbs.max_neighbors}')\n",
    "print(f'mean number of neighbors per node: {w_nyc_nbs.mean_neighbors}')"
   ]
  },
  {
   "cell_type": "markdown",
   "metadata": {},
   "source": [
    "*This is a problem for the ICAR model, which operates on a fully connected graph (single component)*\n",
    "\n",
    "* For the NYC analysis paper, we hand edited the map of NYC (in R) to create a fully connected network graph.\n",
    "\n",
    "* For this notebook we restrict out attention to Brooklyn, the largest borough in NYC, which is a single network component."
   ]
  },
  {
   "cell_type": "code",
   "execution_count": null,
   "metadata": {},
   "outputs": [],
   "source": [
    "brooklyn_geodata = nyc_geodata[nyc_geodata['BoroName']=='Brooklyn'].reset_index(drop=True)\n",
    "brooklyn_nbs = sa.weights.Rook.from_dataframe(brooklyn_geodata, geom_col='geometry')\n",
    "plot_spatial_weights(brooklyn_nbs, brooklyn_geodata) "
   ]
  },
  {
   "cell_type": "code",
   "execution_count": null,
   "metadata": {},
   "outputs": [],
   "source": [
    "print(f'number of components: {brooklyn_nbs.n_components}')\n",
    "print(f'islands? {brooklyn_nbs.islands}')\n",
    "print(f'max number of neighbors per node: {brooklyn_nbs.max_neighbors}')\n",
    "print(f'mean number of neighbors per node: {brooklyn_nbs.mean_neighbors}')"
   ]
  },
  {
   "cell_type": "markdown",
   "metadata": {},
   "source": [
    "## Adding an ICAR Component to the Base Model\n",
    "\n",
    "The ICAR model uses the spatial structure of the data, abstracted into a neighborhood network.\n",
    "\n",
    "### Alternative encodings of neighborhood network\n",
    "\n",
    "- $N \\times N$ Adjacency matrix\n",
    "  + Entries $(i,\\ j)$ and $(j,\\ i)$ are 1 when regions $n_i$ and $n_j$ are neighbors, 0 otherwise\n",
    "\n",
    "- Undirected graph: regions are vertices, pairs of neighbors are edges\n",
    "  + Encoded as *edges* - 2 column matrix, each row is a pair of neighbors $({n_i}, {n_j})$\n",
    "\n",
    "The Stan ICAR model uses the latter.\n",
    "\n",
    "### Stan ICAR Model Implementation\n",
    "\n",
    "$$ p(\\phi) \\propto \\exp \\left\\{ {- \\frac{1}{2}} \\sum_{i \\sim j}{({\\phi}_i - {\\phi}_j)}^2 \\right\\} $$\n",
    "\n",
    "Use Stan's vectorized operations to compute log probability density:\n",
    "\\fontsize{9pt}{9.4}\\selectfont\n",
    "```\n",
    "   target += -0.5 * dot_self(phi[node1] - phi[node2]);\n",
    "```\n",
    "\\normalsize\n",
    "\\vspace{0.2in}\n",
    "\n",
    "Encode neighbor information as a graph.\n",
    "\n",
    "* Nodes are indexed from 1:N.\n",
    "* Edges indices are stored in a 2 x N array\n",
    "  + each column is an edge\n",
    "  + row 1: index of first node in edge pair, $n_i$\n",
    "  + row 2: index of second node in edge pair, $n_j$\n",
    "\n",
    "\\fontsize{9pt}{9.4}\\selectfont\n",
    "```\n",
    "  int<lower = 0> N;  // number of areal regions\n",
    "  // spatial structure\n",
    "  int<lower = 0> N_edges;  // number of neighbor pairs\n",
    "  array[2, N_edges] int<lower = 1, upper = N> neighbors;  // node[1, j] adjacent to node[2, j]\n",
    "```\n",
    "\\normalsize\n",
    "\n",
    "## ICAR Model:  `poisson_icar.stan`\n",
    "\n",
    "This file is in directory `stan/poisson_icar.stan`."
   ]
  },
  {
   "cell_type": "code",
   "execution_count": null,
   "metadata": {},
   "outputs": [],
   "source": [
    "poisson_icar_model_file = os.path.join('stan', 'poisson_icar.stan')\n",
    "\n",
    "with open(poisson_icar_model_file, 'r') as file:\n",
    "    contents = file.read()\n",
    "    print(contents)"
   ]
  },
  {
   "cell_type": "markdown",
   "metadata": {},
   "source": [
    "## Data Prep\n",
    "\n",
    "#### Get edgeset\n",
    "\n",
    "- Compute this automatically from `nyc_geodata` spatial geometry component\n",
    "  + Python package `libpysal`\n",
    "  + R package `spdep`"
   ]
  },
  {
   "cell_type": "code",
   "execution_count": null,
   "metadata": {},
   "outputs": [],
   "source": [
    "brooklyn_nbs_adj =  brooklyn_nbs.to_adjlist(remove_symmetric=True)\n",
    "print(type(brooklyn_nbs_adj))\n",
    "brooklyn_nbs_adj.head(10)"
   ]
  },
  {
   "cell_type": "code",
   "execution_count": null,
   "metadata": {},
   "outputs": [],
   "source": [
    "# create np.ndarray from columns in adjlist, increment indices by 1\n",
    "j1 = brooklyn_nbs_adj['focal'] + 1\n",
    "j2 = brooklyn_nbs_adj['neighbor'] + 1\n",
    "edge_pairs = np.vstack([j1, j2])\n",
    "edge_pairs"
   ]
  },
  {
   "cell_type": "markdown",
   "metadata": {},
   "source": [
    "#### Assemble the input data"
   ]
  },
  {
   "cell_type": "code",
   "execution_count": null,
   "metadata": {},
   "outputs": [],
   "source": [
    "design_vars = np.array(['pct_pubtransit','med_hh_inc', 'traffic', 'frag_index'])\n",
    "\n",
    "design_mat = brooklyn_geodata[design_vars].to_numpy()\n",
    "design_mat[:, 1] = np.log(design_mat[:, 1])\n",
    "design_mat[:, 2] = np.log(design_mat[:, 2])\n",
    "\n",
    "pd.DataFrame(data=design_mat).describe()"
   ]
  },
  {
   "cell_type": "code",
   "execution_count": null,
   "metadata": {},
   "outputs": [],
   "source": [
    "pois_icar_data = {\"N\":brooklyn_geodata.shape[0],\n",
    "             \"y\":brooklyn_geodata['count'].astype('int'),\n",
    "             \"E\":brooklyn_geodata['kid_pop'].astype('int'),\n",
    "             \"K\":4,\n",
    "             \"xs\":design_mat,\n",
    "             \"N_edges\": edge_pairs.shape[1],\n",
    "             \"neighbors\": edge_pairs\n",
    "}"
   ]
  },
  {
   "cell_type": "markdown",
   "metadata": {},
   "source": [
    "## Fitting the ICAR Model on the Brooklyn data\n",
    "\n",
    "#### Model is compiled (as needed) on instantiation"
   ]
  },
  {
   "cell_type": "code",
   "execution_count": null,
   "metadata": {},
   "outputs": [],
   "source": [
    "pois_icar_mod = CmdStanModel(stan_file=poisson_icar_model_file)"
   ]
  },
  {
   "cell_type": "markdown",
   "metadata": {},
   "source": [
    "#### Run the NUTS-HMC sampler, summarize results"
   ]
  },
  {
   "cell_type": "code",
   "execution_count": null,
   "metadata": {},
   "outputs": [],
   "source": [
    "pois_icar_fit = pois_icar_mod.sample(data=pois_icar_data)\n",
    "pois_icar_fit.summary().round(2).loc[\n",
    "  ['beta_intercept', 'beta0', 'betas[1]', 'betas[2]', 'betas[3]', 'betas[4]', 'sigma']]"
   ]
  },
  {
   "cell_type": "markdown",
   "metadata": {},
   "source": [
    "## Model Comparison: ICAR vs. ordinary random effects"
   ]
  },
  {
   "cell_type": "code",
   "execution_count": null,
   "metadata": {},
   "outputs": [],
   "source": [
    "pois_re_mod = CmdStanModel(stan_file=os.path.join(\n",
    "  'stan', 'poisson_re.stan'))\n",
    "pois_re_fit = pois_re_mod.sample(data=pois_icar_data)\n",
    "pois_re_fit.summary().round(2).loc[\n",
    "  ['beta_intercept', 'beta0', 'betas[1]', 'betas[2]', 'betas[3]', 'betas[4]', 'sigma']]"
   ]
  },
  {
   "cell_type": "markdown",
   "metadata": {},
   "source": [
    "Which model provides a better fit (on the Brooklyn subset of the data)?\n",
    "\n",
    "### Visual comparison\n",
    "\n",
    "#### ICAR model"
   ]
  },
  {
   "cell_type": "code",
   "execution_count": null,
   "metadata": {},
   "outputs": [],
   "source": [
    "idata_pois_icar = az.from_cmdstanpy(\n",
    "    pois_icar_fit,\n",
    "    posterior_predictive=\"y_rep\",\n",
    "    dims={\"betas\": [\"covariates\"]},\n",
    "    coords={\"covariates\": design_vars},\n",
    "    observed_data={\"y\": pois_icar_data['y']}\n",
    ")\n",
    "idata_pois_icar\n",
    "\n",
    "az.plot_ppc(idata_pois_icar, data_pairs={\"y\":\"y_rep\"})"
   ]
  },
  {
   "cell_type": "markdown",
   "metadata": {},
   "source": [
    "#### RE model"
   ]
  },
  {
   "cell_type": "code",
   "execution_count": null,
   "metadata": {},
   "outputs": [],
   "source": [
    "idata_pois_re = az.from_cmdstanpy(\n",
    "    pois_re_fit,\n",
    "    posterior_predictive=\"y_rep\",\n",
    "    dims={\"betas\": [\"covariates\"]},\n",
    "    coords={\"covariates\": design_vars},\n",
    "    observed_data={\"y\": pois_icar_data['y']}\n",
    ")\n",
    "az.plot_ppc(idata_pois_re, data_pairs={\"y\":\"y_rep\"})"
   ]
  },
  {
   "cell_type": "markdown",
   "metadata": {},
   "source": [
    "### Leave-one-out cross-validation (LOO)\n",
    "\n",
    "The Poisson-ICAR model falls into the category of \"non-factorized models\",\n",
    "for which simple leave-one-out cross-validation fails to hold,\n",
    "due to the fact that observations depend on other observations from \n",
    "different spatial units in addition to the dependence on the model parameters\n",
    "Doing cross-validation would require recoding the model, and then re-fitting is $N$ times, once per omitted observation.\n",
    "\n",
    "See paper: [Efficient leave-one-out cross-validation for Bayesian non-factorized normal and Student-t models](https://arxiv.org/abs/1810.10559),\n",
    "which provides a thorough discussion of this problem and ways to evaluate non-factorized models,\n",
    "and the LOO package vignette:\n",
    "[Leave-one-out cross-validation for non-factorized models](https://mc-stan.org/loo/articles/loo2-non-factorized.html).\n",
    "\n",
    "In these notebooks we will rely on visualizations and summary statistics.\n"
   ]
  }
 ],
 "metadata": {
  "kernelspec": {
   "display_name": "Python 3 (ipykernel)",
   "language": "python",
   "name": "python3"
  },
  "language_info": {
   "codemirror_mode": {
    "name": "ipython",
    "version": 3
   },
   "file_extension": ".py",
   "mimetype": "text/x-python",
   "name": "python",
   "nbconvert_exporter": "python",
   "pygments_lexer": "ipython3",
   "version": "3.12.2"
  }
 },
 "nbformat": 4,
 "nbformat_minor": 4
}
