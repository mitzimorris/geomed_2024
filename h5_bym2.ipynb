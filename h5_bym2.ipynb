{
  "cells": [
    {
      "cell_type": "markdown",
      "metadata": {},
      "source": [
        #Implementing the BYM2 Model in Stan\n",
        "\n",
        "## Notebook Setup\n",
        "\n",
        "Import all libraries, load the NYC study data."
      ]
    },
    {
      "cell_type": "code",
      "metadata": {},
      "source": [
        "# import all libraries used in this notebook\n",
        "import os\n",
        "import numpy as np\n",
        "import pandas as pd\n",
        "import geopandas as gpd\n",
        "import libpysal as sa\n",
        "import matplotlib\n",
        "import splot as splt\n",
        "from splot.libpysal import plot_spatial_weights \n",
        "import plotnine as p9\n",
        "import arviz as az\n",
        "%matplotlib inline\n",
        "\n",
        "from cmdstanpy import CmdStanModel, cmdstan_path, cmdstan_version\n",
        "\n",
        "# suppress plotnine warnings\n",
        "import warnings\n",
        "warnings.filterwarnings('ignore')\n",
        "\n",
        "# setup plotnine look and feel\n",
        "p9.theme_set(\n",
        "  p9.theme_grey() + \n",
        "  p9.theme(text=p9.element_text(size=10),\n",
        "        plot_title=p9.element_text(size=14),\n",
        "        axis_title_x=p9.element_text(size=12),\n",
        "        axis_title_y=p9.element_text(size=12),\n",
        "        axis_text_x=p9.element_text(size=8),\n",
        "        axis_text_y=p9.element_text(size=8)\n",
        "       )\n",
        ")\n",
        "xlabels_90 = p9.theme(axis_text_x = p9.element_text(angle=90, hjust=1))\n",
        "\n",
        "map_theme =  p9.theme(figure_size=(7,6),\n",
        "                 axis_text_x=p9.element_blank(),\n",
        "                 axis_ticks_x=p9.element_blank(),\n",
        "                 axis_text_y=p9.element_blank(),\n",
        "                 axis_ticks_y=p9.element_blank())"
      ],
      "execution_count": null,
      "outputs": []
    },
    {
      "cell_type": "code",
      "metadata": {},
      "source": [
        "nyc_geodata = gpd.read_file(os.path.join('data', 'nyc_study.geojson'))\n",
        "nyc_geodata.columns"
      ],
      "execution_count": null,
      "outputs": []
    },
    {
      "cell_type": "markdown",
      "metadata": {},
      "source": [
        "## Disconnected Components (and islands)\n",
        "\n",
        "New York city consists of several islands; only the Bronx is part of the mainland; Brooklyn and Queens are part of Long Island, plus smaller islands City Island, Roosevelt Island, and the Rockaways.\n",
        "\n",
        "*This is a problem for the ICAR model, which operates on a fully connected graph (single component)*\n",
        "\n",
        "* For the NYC analysis paper, we hand edited the map of NYC (in R) to create a fully connected network graph.\n",
        "\n",
        "* For this notebook, we will restrict out attention to Brooklyn, the largest borough in NYC, which is a single network component.\n"
      ]
    },
    {
      "cell_type": "code",
      "metadata": {},
      "source": [
        "brooklyn_geodata = nyc_geodata[nyc_geodata['BoroName']=='Brooklyn'].reset_index(drop=True)\n",
        "brooklyn_nbs = sa.weights.Rook.from_dataframe(brooklyn_geodata, geom_col='geometry')\n",
        "plot_spatial_weights(brooklyn_nbs, brooklyn_geodata) "
      ],
      "execution_count": null,
      "outputs": []
    },
    {
      "cell_type": "code",
      "metadata": {},
      "source": [
        "print(f'number of components: {brooklyn_nbs.n_components}')\n",
        "print(f'islands? {brooklyn_nbs.islands}')\n",
        "print(f'max number of neighbors per node: {brooklyn_nbs.max_neighbors}')\n",
        "print(f'mean number of neighbors per node: {brooklyn_nbs.mean_neighbors}')"
      ],
      "execution_count": null,
      "outputs": []
    },
    {
      "cell_type": "markdown",
      "metadata": {},
      "source": [
        "## From ICAR to BYM2\n",
        "\n",
        "* Combines both ICAR component $\\phi$ and ordinary random effects $\\theta$ as\n",
        "$$\\left( (\\sqrt{\\, {\\rho} / s}\\, \\ )\\,\\phi^* + (\\sqrt{1-\\rho})\\,\\theta^* \\right) \\sigma $$\n",
        "\n",
        "* Parameter $\\rho$ answers the question:  how much of the observed variance is spatial?\n",
        "\n",
        "* Don't need to run analysis, e.g. Moran's I - the model sorts it out for you.\n",
        "\n",
        "## BYM2 Model:  `bym2.stan`\n",
        "\n",
        "This file is in directory `stan/bym2.stan`."
      ]
    },
    {
      "cell_type": "code",
      "metadata": {},
      "source": [
        "bym2_model_file = os.path.join('stan', 'bym2.stan')\n",
        "\n",
        "with open(bym2_model_file, 'r') as file:\n",
        "    contents = file.read()\n",
        "    print(contents)"
      ],
      "execution_count": null,
      "outputs": []
    },
    {
      "cell_type": "markdown",
      "metadata": {},
      "source": [
        "## Data Prep\n",
        "\n",
        "### Get edgeset\n",
        "\n",
        "- Compute this automatically from `nyc_geodata` spatial geometry component\n",
        "  + Python package `libpysal`\n",
        "  + R package `spdep`"
      ]
    },
    {
      "cell_type": "code",
      "metadata": {},
      "source": [
        "brooklyn_nbs_adj =  brooklyn_nbs.to_adjlist(remove_symmetric=True)\n",
        "print(type(brooklyn_nbs_adj))\n",
        "brooklyn_nbs_adj.head(10)"
      ],
      "execution_count": null,
      "outputs": []
    },
    {
      "cell_type": "code",
      "metadata": {},
      "source": [
        "# create np.ndarray from columns in adjlist, increment indices by 1\n",
        "j1 = brooklyn_nbs_adj['focal'] + 1\n",
        "j2 = brooklyn_nbs_adj['neighbor'] + 1\n",
        "edge_pairs = np.vstack([j1, j2])\n",
        "edge_pairs"
      ],
      "execution_count": null,
      "outputs": []
    },
    {
      "cell_type": "markdown",
      "metadata": {},
      "source": [
        "### Compute scaling factor `tau`\n",
        "\n",
        "Computed in R:  value 0.658\n",
        "\n",
        "#### Assemble the input data "
      ]
    },
    {
      "cell_type": "code",
      "metadata": {},
      "source": [
        "design_vars = np.array(['pct_pubtransit','med_hh_inc', 'traffic', 'frag_index'])\n",
        "\n",
        "design_mat = brooklyn_geodata[design_vars].to_numpy()\n",
        "design_mat[:, 1] = np.log(design_mat[:, 1])\n",
        "design_mat[:, 2] = np.log(design_mat[:, 2])\n",
        "\n",
        "pd.DataFrame(data=design_mat).describe()"
      ],
      "execution_count": null,
      "outputs": []
    },
    {
      "cell_type": "code",
      "metadata": {},
      "source": [
        "bym2_data = {\"N\":brooklyn_geodata.shape[0],\n",
        "             \"y\":brooklyn_geodata['count'].astype('int'),\n",
        "             \"E\":brooklyn_geodata['kid_pop'].astype('int'),\n",
        "             \"K\":4,\n",
        "             \"xs\":design_mat,\n",
        "             \"N_edges\": edge_pairs.shape[1],\n",
        "             \"neighbors\": edge_pairs,\n",
        "\t     \"tau\":0.7\n",
        "}"
      ],
      "execution_count": null,
      "outputs": []
    },
    {
      "cell_type": "markdown",
      "metadata": {},
      "source": [
        "## Fitting the ICAR Model on the Brooklyn data\n",
        "\n",
        "#### Model is compiled (as needed) on instantiation "
      ]
    },
    {
      "cell_type": "code",
      "metadata": {},
      "source": [
        "bym2_mod = CmdStanModel(stan_file=bym2_model_file)"
      ],
      "execution_count": null,
      "outputs": []
    },
    {
      "cell_type": "markdown",
      "metadata": {},
      "source": [
        "#### Run the NUTS-HMC sampler, summarize results"
      ]
    },
    {
      "cell_type": "code",
      "metadata": {},
      "source": [
        "bym2_fit = bym2_mod.sample(data=bym2_data)\n",
        "bym2_fit.summary().round(2).loc[\n",
        "  ['beta_intercept', 'beta0', 'betas[1]', 'betas[2]', 'betas[3]', 'betas[4]', 'sigma']]"
      ],
      "execution_count": null,
      "outputs": []
    },
    {
      "cell_type": "markdown",
      "metadata": {},
      "source": [
        "## Model Comparison: BYM2 vs ICAR vs. ordinary random effects\n",
        "\n",
        "\n",
        "#### ICAR model"
      ]
    },
    {
      "cell_type": "code",
      "metadata": {},
      "source": [
        "pois_icar_mod = CmdStanModel(stan_file=os.path.join(\n",
        "  'stan', 'poisson_icar.stan'))\n",
        "pois_icar_fit = pois_icar_mod.sample(data=bym2_data)\n",
        "pois_icar_fit.summary().round(2).loc[\n",
        "  ['beta_intercept', 'beta0', 'betas[1]', 'betas[2]', 'betas[3]', 'betas[4]', 'sigma']]"
      ],
      "execution_count": null,
      "outputs": []
    },
    {
      "cell_type": "markdown",
      "metadata": {},
      "source": [
        "#### Ordinary random effects model"
      ]
    },
    {
      "cell_type": "code",
      "metadata": {},
      "source": [
        "pois_re_mod = CmdStanModel(stan_file=os.path.join(\n",
        "  'stan', 'poisson_re.stan'))\n",
        "pois_re_fit = pois_re_mod.sample(data=bym2_data)\n",
        "pois_re_fit.summary().round(2).loc[\n",
        "  ['beta_intercept', 'beta0', 'betas[1]', 'betas[2]', 'betas[3]', 'betas[4]', 'sigma']]"
      ],
      "execution_count": null,
      "outputs": []
    },
    {
      "cell_type": "markdown",
      "metadata": {},
      "source": [
        "Which model provides a better fit (on the Brooklyn subset of the data)?\n",
        "\n",
        "### Visual comparison\n",
        "\n",
        "\n",
        "#### BYM2 model"
      ]
    },
    {
      "cell_type": "code",
      "metadata": {},
      "source": [
        "idata_bym2 = az.from_cmdstanpy(\n",
        "    bym2_fit,\n",
        "    posterior_predictive=\"y_rep\",\n",
        "    dims={\"betas\": [\"covariates\"]},\n",
        "    coords={\"covariates\": design_vars},\n",
        "    observed_data={\"y\": bym2_data['y']}\n",
        ")\n",
        "idata_bym2\n",
        "\n",
        "az_bym2 = az.plot_ppc(idata_bym2, data_pairs={\"y\":\"y_rep\"})\n",
        "az_bym2[0,0].title.text = \"BYM2 model posterior predictive check\"\n",
        "az.plots.backends.show_layout(az_bym2)"
      ],
      "execution_count": null,
      "outputs": []
    },
    {
      "cell_type": "markdown",
      "metadata": {},
      "source": [
        "#### ICAR model"
      ]
    },
    {
      "cell_type": "code",
      "metadata": {},
      "source": [
        "idata_pois_icar = az.from_cmdstanpy(\n",
        "    pois_icar_fit,\n",
        "    posterior_predictive=\"y_rep\",\n",
        "    dims={\"betas\": [\"covariates\"]},\n",
        "    coords={\"covariates\": design_vars},\n",
        "    observed_data={\"y\": pois_icar_data['y']}\n",
        ")\n",
        "idata_pois_icar\n",
        "\n",
        "az_pois_icar = az.plot_ppc(idata_pois_icar, data_pairs={\"y\":\"y_rep\"})\n",
        "az_pois_icar[0,0].title.text = \"Poisson ICAR model posterior predictive check\"\n",
        "az.plots.backends.show_layout(az_pois_icar)"
      ],
      "execution_count": null,
      "outputs": []
    },
    {
      "cell_type": "markdown",
      "metadata": {},
      "source": [
        "#### RE model"
      ]
    },
    {
      "cell_type": "code",
      "metadata": {},
      "source": [
        "idata_pois_re = az.from_cmdstanpy(\n",
        "    pois_re_fit,\n",
        "    posterior_predictive=\"y_rep\",\n",
        "    dims={\"betas\": [\"covariates\"]},\n",
        "    coords={\"covariates\": design_vars},\n",
        "    observed_data={\"y\": pois_icar_data['y']}\n",
        ")\n",
        "az_pois_re = az.plot_ppc(idata_pois_re, data_pairs={\"y\":\"y_rep\"})\n",
        "az_pois_re[0,0].title.text = \"Poisson RE model posterior predictive check\"\n",
        "az.plots.backends.show_layout(az_pois_re)"
      ],
      "execution_count": null,
      "outputs": []
    },
    {
      "cell_type": "markdown",
      "metadata": {},
      "source": [
        "### Leave-one-out cross-validation (LOO)"
      ]
    },
    {
      "cell_type": "code",
      "metadata": {},
      "source": [
        "az.compare({\"bym2\":idata_bym2, \"poisson_icar\":idata_pois_icar, \"poisson_re\":idata_pois_re})"
      ],
      "execution_count": null,
      "outputs": []
    }
  ],
  "metadata": {
    "kernelspec": {
      "name": "python3",
      "language": "python",
      "display_name": "Python 3 (ipykernel)",
      "path": "/Users/mitzi/miniconda3/envs/cmdstanpy/share/jupyter/kernels/python3"
    }
  },
  "nbformat": 4,
  "nbformat_minor": 4
}