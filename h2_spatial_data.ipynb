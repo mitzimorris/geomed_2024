{
 "cells": [
  {
   "cell_type": "markdown",
   "metadata": {},
   "source": [
    "# Spatial Data Analysis in Python and R\n",
    "\n",
    "\n",
    "## Example Dataset:  NYC traffic accidents, localized to US Census blocks\n",
    "\n",
    "The dataset we're using is that used in the analysis published in 2019\n",
    "[Bayesian Hierarchical Spatial Models: Implementing the Besag York Mollié Model in Stan](https://www.sciencedirect.com/science/article/pii/S1877584518301175).\n",
    "\n",
    "The data consists of motor vehicle collisions in New York City,\n",
    "as recorded by the NYC Department of Transportation, between the years 2005-2014,\n",
    "restricted to collisions involving school age children 5-18 years of age as pedestrians.\n",
    "\n",
    "Each crash was localized to the US Census tract in which it occurred, using boundaries from the 2010 United States Census,\n",
    "using the [2010 Census block map for New York City](https://data.cityofnewyork.us/City-Government/2010-Census-Blocks/v2h8-6mxf)\n",
    "The US Census tract is the lowest level of Census data resolution.\n",
    "A tract contains between 2,500 and 8,000 residents and boundaries that follow visible features.\n",
    "According to the [Census Bureau](https://www2.census.gov/geo/pdfs/reference/GARM/Ch10GARM.pdf)\n",
    "\n",
    "> When first established, census tracts are to be as homogeneous as possible with respect to population characteristics, economic status, and living condition\n",
    "\n",
    "### Measures\n",
    "\n",
    ">We obtained motor vehicle collision data from the New York City\n",
    "Department of Transportation for the ten most recent years of data\n",
    "available at the time of request (2005-2014). Within this dataset, we\n",
    "identified collisions involving school age children 5-18 years of age\n",
    "as pedestrians.  We then assigned each crash to the census tract in\n",
    "which it occurred, using boundaries from the 2010 United States\n",
    "Census.\n",
    "\n",
    ">We obtained 2010 US Census counts of youths aged 5-18 in each census\n",
    "tract from the US Census Bureau [@us-census] We also obtained the\n",
    "Census Bureau's American Community Survey (ACS) five-year estimates of\n",
    "median household income and the percentage of commuters who traveled\n",
    "to work by means other than a private vehicle (i.e., by walking,\n",
    "bicycling, or using public transportation) for each tract for\n",
    "2010-2014.  We constructed an index of social fragmentation based on\n",
    "the work of Peter Congdon, using updated ACS estimates of vacant housing\n",
    "units, householders living alone, non-owner occupied housing units,\n",
    "and population having moved within the previous year.  We standardized\n",
    "each of these metrics with a mean of zero and added them together as a\n",
    "single index. Finally, we obtained street level annual average daily\n",
    "traffic (AADT) data from the New York State Department of\n",
    "Transportation on the New York Open Data portal.  We\n",
    "created a spatial overlay of streets and census tracts to assign each\n",
    "census tract the maximum AADT value of its underlying streets in 2015.\n",
    "\n",
    "| Measures                                              | Median | Min    | Mean     | Max       |\n",
    "|-------------------------------------------------------|--------|--------|----------|-----------|\n",
    "| Youth pedestrian injuries, 2005-14                    | 6      | 0      | 8.2      | 57        |\n",
    "| Population ages 5-18 years, 2010                      | 510    | 6      | 596.4    | 3,315     |\n",
    "| Med. household income in USD, 2010-14                 | $53,890| $9,327 | $58,497  | $232,266  |\n",
    "| Pct. commute by walk/cycle/public trans, 2010-14      | 73.9   | 9.7    | 69.8     | 100.0     |\n",
    "| Standardized social fragmentation index               | -0.1   | -6.7   | 0.0      | 18.7      |\n",
    "| Traffic Volume (AADT), 2015                           | 19,178 | 843    | 37,248   | 276,476   |\n",
    "\n",
    "## Spatial Data manipulation in R and Python\n",
    "\n",
    "Geographic information systems (GIS) data is any item which has a geographic location, either a single point or a set of bounding polygons.\n",
    "Cartographic data (maps) are encoded as a set of records, one per map region.  The [shapefile format](https://en.wikipedia.org/wiki/Shapefile) is an open specification used to insure interoperability among GIS software packages.  When items in a dataset contain location labels, it is necessary to obtain a set of shapefiles for the corresponding map.\n",
    "To compute with GIS data, we need packages which can do the geographic math.\n",
    "\n",
    "- [GeoPandas](https://geopandas.org/en/stable/) extends the datatypes used by pandas to allow spatial operations on geometric types,\n",
    "which are equivalent to the operations provided by R's [`sf`](https://r-spatial.github.io/sf/) package.\n",
    "- [`libpysal`](https://pysal.org/libpysal/) is spatial analysis package which can analyze distance between locations; operations equivalent to R's [`spdep`](https://r-spatial.github.io/spdep/) package.\n",
    "\n",
    "To visualize GIS data, we need to be able to draw maps and spatial graphs.\n",
    "\n",
    "- In R, ggplot2 can produce beautiful maps for GIS data.\n",
    "- The python equivalent of R's `ggplot2` is [`plotnine`](https://plotnine.org/).\n",
    "- The [`splot`](https://pysal.org/notebooks/viz/splot/intro.html) provides additional plotting functions for spatial graph networks.\n",
    "\n",
    "## Preliminary Data Analysis\n",
    "\n",
    "### Notebook Startup: Load Packages / Libraries\n",
    "\n",
    "**Python**"
   ]
  },
  {
   "cell_type": "code",
   "execution_count": null,
   "metadata": {},
   "outputs": [],
   "source": [
    "# import all libraries used in this notebook\n",
    "import os\n",
    "import numpy as np\n",
    "import pandas as pd\n",
    "import geopandas as gpd\n",
    "import libpysal as sa\n",
    "import matplotlib as plt\n",
    "import splot as splt\n",
    "import plotnine as p9\n",
    "%matplotlib inline\n",
    "\n",
    "from splot.libpysal import plot_spatial_weights \n",
    "from libpysal.weights import lat2W, Rook, KNN, attach_islands\n",
    "\n",
    "# suppress plotnine warnings\n",
    "import warnings\n",
    "warnings.filterwarnings('ignore')\n",
    "# setup plotnine look and feel global\n",
    "p9.theme_set(\n",
    "  p9.theme_grey() + \n",
    "  p9.theme(text=p9.element_text(size=10),\n",
    "        plot_title=p9.element_text(size=14),\n",
    "        axis_title_x=p9.element_text(size=12),\n",
    "        axis_title_y=p9.element_text(size=12),\n",
    "        axis_text_x=p9.element_text(size=8),\n",
    "        axis_text_y=p9.element_text(size=8)\n",
    "       )\n",
    ")\n",
    "# useful themes\n",
    "xlabels_90 = p9.theme(axis_text_x = p9.element_text(angle=90, hjust=1))\n",
    "map_theme =  p9.theme(figure_size=(7,6),\n",
    "                 axis_text_x=p9.element_blank(),\n",
    "                 axis_ticks_x=p9.element_blank(),\n",
    "                 axis_text_y=p9.element_blank(),\n",
    "                 axis_ticks_y=p9.element_blank())"
   ]
  },
  {
   "cell_type": "markdown",
   "metadata": {},
   "source": [
    "**R**\n",
    "```{r}\n",
    "library(sf)\n",
    "library(spdep) |> suppressPackageStartupMessages()\n",
    "library(ggplot2)\n",
    "library(tidyverse) |> suppressPackageStartupMessages()\n",
    "```\n",
    "\n",
    "### Load study data\n",
    "\n",
    "The study data and GIS data have been assembled into a single GeoJSON file.\n",
    "\n",
    "**Python**"
   ]
  },
  {
   "cell_type": "code",
   "execution_count": null,
   "metadata": {},
   "outputs": [],
   "source": [
    "nyc_geodata = gpd.read_file(os.path.join('data', 'nyc_study.geojson'))\n",
    "print(type(nyc_geodata))\n",
    "print(nyc_geodata.columns)\n",
    "print(nyc_geodata['BoroName'].value_counts())"
   ]
  },
  {
   "cell_type": "markdown",
   "metadata": {},
   "source": [
    "**R**\n",
    "```{r}\n",
    "nyc_geodata = st_read(file_path(\"data\", \"nyc_study.geojson\")\n",
    "class(nyc_geodata)\n",
    "names(nyc_geodata)\n",
    "table(nyc_geodata$BoroName)\n",
    "```\n",
    "\n",
    "#### Traffic accidents - kids hit by cars\n",
    "\n",
    "Plot the observed outcome `counts`.\n",
    "\n",
    "*Note:* Count data is properly plotted as a bar chart, not histogram plus density, but the visualization is useful.\n",
    "\n",
    "**Python**"
   ]
  },
  {
   "cell_type": "code",
   "execution_count": null,
   "metadata": {},
   "outputs": [],
   "source": [
    "(\n",
    "    p9.ggplot(data=nyc_geodata, mapping=p9.aes(x='count')) +\n",
    "    p9.geom_histogram(p9.aes(y=p9.after_stat('density')), bins=58, color='DarkBlue') +\n",
    "    p9.geom_density(color=\"red\", size=1) +\n",
    "    p9.ggtitle(\"Distribution of accidents per tract\") +\n",
    "    p9.xlab(\"Accidents\") + p9.ylab(\"\")\n",
    ")"
   ]
  },
  {
   "cell_type": "markdown",
   "metadata": {},
   "source": [
    "**R**\n",
    "```{r}\n",
    "ggplot(data = nyc_geodata, aes(x = count)) +\n",
    "  geom_histogram(aes(y = after_stat(density)), bins = 58, color = 'DarkBlue', fill = \"skyblue\", alpha = 0.7) +\n",
    "  geom_density(color = \"red\", linewidth = 1) +\n",
    "  ggtitle(\"Distribution of accidents per tract\") +\n",
    "  xlab(\"accidents\") +\n",
    "  ylab(\"\")\n",
    "```\n",
    "\n",
    "### Visualize by Map Areas\n",
    "\n",
    "#### Show areal map, fill color is accidents per tract\n",
    "\n",
    "**Python**"
   ]
  },
  {
   "cell_type": "code",
   "execution_count": null,
   "metadata": {},
   "outputs": [],
   "source": [
    "(\n",
    "    p9.ggplot(nyc_geodata) +\n",
    "    p9.geom_map(p9.aes(fill='count')) +\n",
    "    p9.scale_fill_gradient(low=\"lightblue\", high=\"red\") +\n",
    "    p9.labs(title=\"NYC School-Age Traffic Accident Victims by Census Tract\") +\n",
    "    map_theme\n",
    ")"
   ]
  },
  {
   "cell_type": "markdown",
   "metadata": {},
   "source": [
    "**R**\n",
    "```{r}\n",
    "ggplot(data = nyc_geodata) +\n",
    "geom_sf(aes(fill = count)) +\n",
    "scale_fill_gradient(low = \"lightblue\", high = \"red\") +\n",
    "labs(title = \"NYC School-Age Traffic Accident Victims by Census Tract\")\n",
    "```\n",
    "\n",
    "#### Show areal map, fill color is kid population per tract\n",
    "\n",
    "**Python**"
   ]
  },
  {
   "cell_type": "code",
   "execution_count": null,
   "metadata": {},
   "outputs": [],
   "source": [
    "(\n",
    "    p9.ggplot(nyc_geodata) +\n",
    "    p9.geom_map(p9.aes(fill='kid_pop')) +\n",
    "    p9.scale_fill_gradient(low=\"lightblue\", high=\"red\") +\n",
    "    p9.labs(title = \"NYC Population Ages 5-18 per Census Tract\") +\n",
    "    map_theme\n",
    ")"
   ]
  },
  {
   "cell_type": "markdown",
   "metadata": {},
   "source": [
    "**R**\n",
    "```{r}\n",
    "ggplot(data = nyc_geodata) +\n",
    "    geom_sf(aes(fill = kid_pop)) +\n",
    "    scale_fill_gradient(low = \"lightblue\", high = \"red\") +\n",
    "    labs(title = \"NYC Population Ages 5-18 Density by Census Tract\")\n",
    "```\n",
    "\n",
    "#### Population: raw counts, density per square mile\n",
    "\n",
    "**Python**"
   ]
  },
  {
   "cell_type": "code",
   "execution_count": null,
   "metadata": {},
   "outputs": [],
   "source": [
    "(\n",
    "    p9.ggplot(nyc_geodata) +\n",
    "    p9.geom_map(p9.aes(fill='kids_per_sq_mi')) +\n",
    "    p9.scale_fill_gradient(low=\"lightblue\", high=\"red\") +\n",
    "    p9.labs(title = \"NYC Population Density Ages 5-18 per Census Tract\",\n",
    "         subtitle = \"Density measured as population per square mile\") +\n",
    "    map_theme\t \n",
    ")"
   ]
  },
  {
   "cell_type": "markdown",
   "metadata": {},
   "source": [
    "**R**\n",
    "```{r}\n",
    "ggplot(data = nyc_geodata) +\n",
    "    geom_sf(aes(fill = kids_per_sq_mi)) +\n",
    "    scale_fill_gradient(low = \"lightblue\", high = \"red\") +\n",
    "    labs(title = \"NYC Population Ages 5-18 Density by Census Tract\",\n",
    "         subtitle = \"Density measured as population per square mile\")\n",
    "```\n",
    "\n",
    "##  Exercises\n",
    "\n",
    "* Visualize `med_hh_inc` (median household income), `frag_index` (fragmentation index), and `traffic`.\n",
    "\n",
    "* Create histograms of predictors `med_hh_inc`, `traffic`.   How can these be rescaled?\n",
    "\n",
    "## Spatial Smoothing For Areal Data:  From Maps to Graphs\n",
    "\n",
    "By defining a neighbor relationship between area regions, we convert a map to a graph.\n",
    "\n",
    "- *Neighbor relation* defined in terms of shared boundaries\n",
    "\n",
    "- Compute this autmatically from `nyc_geodata` spatial geometry component\n",
    "  + R package `spdep`\n",
    "  + Python package `libpysal`\n",
    "\n",
    "\n",
    "### Alternative encodings of neighborhood graph\n",
    "\n",
    "- $N \\times N$ Adjacency matrix\n",
    "  + Entries $(i,\\ j)$ and $(j,\\ i)$ are 1 when regions $n_i$ and $n_j$ are neighbors, 0 otherwise\n",
    "\n",
    "- Undirected graph: regions are vertices, pairs of neighbors are edges\n",
    "  + Encoded as *edges* - 2 column matrix, each row is a pair of neighbors $({n_i}, {n_j})$\n",
    "\n",
    "\n",
    "\n",
    "#### Compute neighborhood graph\n",
    "\n",
    "\n",
    "**Python: Computing the neighborhood network with libpysal**\n",
    "\n",
    "We need to compute the adjacency network between the regions in our map.\n",
    "We do this with [libpysal](https://pysal.org/libpysal/), a Python library for spatial analysis, which we have imported as `sa`.\n",
    "To visualize this graph overlaid on the county map, we use [splot](https://splot.readthedocs.io/en/latest/), a lightweight visualization interface.\n",
    "\n",
    "There are several ways to define the neighbor relationship, see https://pysal.org/libpysal/api.html#spatial-weights.\n",
    "Here we use the *Rook* metric:  regions which share a common line boundary are neighbors.  This returns a spatial weights object, [weights.W](https://pysal.org/libpysal/generated/libpysal.weights.W.html#libpysal-weights-w)\n"
   ]
  },
  {
   "cell_type": "code",
   "execution_count": null,
   "metadata": {
    "scrolled": true
   },
   "outputs": [],
   "source": [
    "w_nyc_nbs = sa.weights.Rook.from_dataframe(nyc_geodata, geom_col='geometry') #, ids=nyc_geodata['ct2010full'].to_list())\n",
    "plot_spatial_weights(w_nyc_nbs, nyc_geodata)  #, indexed_on='ct2010full')"
   ]
  },
  {
   "cell_type": "code",
   "execution_count": null,
   "metadata": {},
   "outputs": [],
   "source": [
    "print(f'number of components: {w_nyc_nbs.n_components}')\n",
    "print(f'islands? {w_nyc_nbs.islands}')\n",
    "print(f'max nmber of neighbors per node: {w_nyc_nbs.max_neighbors}')\n",
    "print(f'mean nmber of neighbors per node: {w_nyc_nbs.mean_neighbors}')"
   ]
  },
  {
   "cell_type": "markdown",
   "metadata": {},
   "source": [
    "## Disconnected Components (and islands)\n",
    "\n",
    "New York city consists of several islands; only the Bronx is part of the mainland; Brooklyn and Queens are part of Long Island, plus smaller islands City Island, Roosevelt Island, and the Rockaways.\n",
    "\n",
    "**This is a problem for the ICAR model requires a fully connected graph**"
   ]
  },
  {
   "cell_type": "markdown",
   "metadata": {},
   "source": [
    "* In Python, `libpysal` function `attach_islands` is useful for attaching islands to the closest component, but connecting components is tedious.\n",
    "\n",
    "* In R, this requires careful edits of the `spdep` object; which is relatively tedious.\n",
    "\n",
    "* For the NYC analysis paper, we hand edited the map of NYC (in R) to create a fully connected network graph."
   ]
  },
  {
   "cell_type": "code",
   "execution_count": null,
   "metadata": {},
   "outputs": [],
   "source": [
    "w_knn1 = KNN.from_dataframe(nyc_geodata, 'geometry', k=1)\n",
    "ws = [w_nyc_nbs, w_knn1]\n",
    "w_nyc_nbs_noislands = attach_islands(ws[0], ws[1])\n",
    "print(np.bincount(w_nyc_nbs_noislands.component_labels))\n",
    "print(w_nyc_nbs_noislands.islands)\n",
    "# plot_spatial_weights(w_nyc_nbs_noislands, nyc_geodata) #, indexed_on='ct2010full')"
   ]
  },
  {
   "cell_type": "markdown",
   "metadata": {},
   "source": [
    "For this workshop, we will restrict out attention to boro of Booklyn for the ICAR component analysis."
   ]
  },
  {
   "cell_type": "code",
   "execution_count": null,
   "metadata": {},
   "outputs": [],
   "source": [
    "print(nyc_geodata['BoroName'].value_counts())\n",
    "print(np.bincount(w_nyc_nbs.component_labels))\n",
    "print(w_nyc_nbs.islands)"
   ]
  },
  {
   "cell_type": "code",
   "execution_count": null,
   "metadata": {},
   "outputs": [],
   "source": [
    "brooklyn_geodata = nyc_geodata[nyc_geodata['BoroName']=='Brooklyn'].reset_index(drop=True)"
   ]
  },
  {
   "cell_type": "code",
   "execution_count": null,
   "metadata": {
    "scrolled": true
   },
   "outputs": [],
   "source": [
    "w_brooklyn_nbs = sa.weights.Rook.from_dataframe(brooklyn_geodata, geom_col='geometry') #, ids=nyc_geodata['ct2010full'].to_list())\n",
    "plot_spatial_weights(w_brooklyn_nbs, brooklyn_geodata) "
   ]
  },
  {
   "cell_type": "code",
   "execution_count": null,
   "metadata": {},
   "outputs": [],
   "source": [
    "print(f'number of components: {w_brooklyn_nbs.n_components}')\n",
    "print(f'islands? {w_brooklyn_nbs.islands}')\n",
    "print(f'max nmber of neighbors per node: {w_brooklyn_nbs.max_neighbors}')\n",
    "print(f'mean nmber of neighbors per node: {w_brooklyn_nbs.mean_neighbors}')"
   ]
  },
  {
   "cell_type": "markdown",
   "metadata": {},
   "source": [
    "#### Exercise: use `Queen` instead of `Rook` distance\n",
    "\n",
    "* Q1: which makes more sense for the analysis?\n",
    "* Q2: how much of a difference does this make?"
   ]
  },
  {
   "cell_type": "markdown",
   "metadata": {},
   "source": [
    "### Representing the neighborhood network as an adjacency list\n",
    "\n",
    "We use the libpysal Weights object method [to_adjlist](https://pysal.org/libpysal/generated/libpysal.weights.W.html#libpysal.weights.W.to_adjlist) to extract neighbor information in the form of a list of adjacent nodes.\n",
    "All the indices are 0-based and match the order in which they occur in the GeoPandasDataFrame object `brooklyn_geodata`."
   ]
  },
  {
   "cell_type": "code",
   "execution_count": null,
   "metadata": {},
   "outputs": [],
   "source": [
    "w_brooklyn_nbs_adj =  w_brooklyn_nbs.to_adjlist(remove_symmetric=True)\n",
    "w_brooklyn_nbs_adj.head(10)"
   ]
  }
 ],
 "metadata": {
  "kernelspec": {
   "display_name": "Python 3 (ipykernel)",
   "language": "python",
   "name": "python3"
  },
  "language_info": {
   "codemirror_mode": {
    "name": "ipython",
    "version": 3
   },
   "file_extension": ".py",
   "mimetype": "text/x-python",
   "name": "python",
   "nbconvert_exporter": "python",
   "pygments_lexer": "ipython3",
   "version": "3.12.2"
  }
 },
 "nbformat": 4,
 "nbformat_minor": 4
}
